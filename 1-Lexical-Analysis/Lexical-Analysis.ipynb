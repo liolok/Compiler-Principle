{
 "cells": [
  {
   "cell_type": "markdown",
   "metadata": {},
   "source": [
    "# Lexical Analysis | 词法分析"
   ]
  },
  {
   "cell_type": "code",
   "execution_count": 1,
   "metadata": {},
   "outputs": [],
   "source": [
    "import re"
   ]
  },
  {
   "cell_type": "markdown",
   "metadata": {},
   "source": [
    "## Code for All Kinds of Word | 各种单词符号对应的种别码"
   ]
  },
  {
   "cell_type": "markdown",
   "metadata": {},
   "source": [
    "### Keyword/Reserved Word | 关键字/保留字"
   ]
  },
  {
   "cell_type": "code",
   "execution_count": 2,
   "metadata": {},
   "outputs": [
    {
     "data": {
      "text/plain": [
       "dict_keys(['begin', 'if', 'then', 'while', 'do', 'end'])"
      ]
     },
     "execution_count": 2,
     "metadata": {},
     "output_type": "execute_result"
    }
   ],
   "source": [
    "KEYWORD = {\n",
    "    'begin': 1,\n",
    "    'if':    2,\n",
    "    'then':  3,\n",
    "    'while': 4,\n",
    "    'do':    5,\n",
    "    'end':   6\n",
    "}\n",
    "KEYWORD.keys()"
   ]
  },
  {
   "cell_type": "markdown",
   "metadata": {},
   "source": [
    "### Identifier | 标识符"
   ]
  },
  {
   "cell_type": "code",
   "execution_count": 3,
   "metadata": {},
   "outputs": [],
   "source": [
    "ID = 10"
   ]
  },
  {
   "cell_type": "markdown",
   "metadata": {},
   "source": [
    "### Integer | 整数"
   ]
  },
  {
   "cell_type": "code",
   "execution_count": 4,
   "metadata": {},
   "outputs": [],
   "source": [
    "INT = 11"
   ]
  },
  {
   "cell_type": "markdown",
   "metadata": {},
   "source": [
    "### Symbol | 符号"
   ]
  },
  {
   "cell_type": "code",
   "execution_count": 5,
   "metadata": {},
   "outputs": [
    {
     "data": {
      "text/plain": [
       "dict_keys(['+', '-', '*', '/', ':', ':=', '<', '<>', '<=', '>', '>=', '=', ';', '(', ')', '#'])"
      ]
     },
     "execution_count": 5,
     "metadata": {},
     "output_type": "execute_result"
    }
   ],
   "source": [
    "SYMBOL = {\n",
    "    '+':  13,\n",
    "    '-':  14,\n",
    "    '*':  15,\n",
    "    '/':  16,\n",
    "    ':':  17,\n",
    "    ':=': 18,\n",
    "    '<':  20,\n",
    "    '<>': 21,\n",
    "    '<=': 22,\n",
    "    '>':  23,\n",
    "    '>=': 24,\n",
    "    '=':  25,\n",
    "    ';':  26,\n",
    "    '(':  27,\n",
    "    ')':  28,\n",
    "    '#': 0\n",
    "}\n",
    "SYMBOL.keys()"
   ]
  },
  {
   "cell_type": "markdown",
   "metadata": {},
   "source": [
    "## Regular Expression | 正则表达式"
   ]
  },
  {
   "cell_type": "code",
   "execution_count": 6,
   "metadata": {},
   "outputs": [
    {
     "data": {
      "text/plain": [
       "'(?P<WORD>[a-zA-Z0-9]+)|(?P<SYMBOL>:=|<>|<=|>=|[+\\\\-*/:<>=;()#])|(?P<NEW_LINE>\\\\n)|(?P<WHITE_SPACE>[ \\\\t]+)|(?P<ILL_CHAR>.)'"
      ]
     },
     "execution_count": 6,
     "metadata": {},
     "output_type": "execute_result"
    }
   ],
   "source": [
    "tokens = {\n",
    "    'WORD':  r'[a-zA-Z0-9]+',  # word, may be keyword/id/integer or illegal\n",
    "    'SYMBOL': r':=|<>|<=|>=|[+\\-*/:<>=;()#]',  # double-character symbols get matched first\n",
    "    'NEW_LINE': r'\\n',\n",
    "    'WHITE_SPACE': r'[ \\t]+',\n",
    "    'ILL_CHAR': r'.'\n",
    "}\n",
    "any_token = '|'.join('(?P<%s>%s)' % (key, value) for (key, value) in tokens.items())\n",
    "any_token"
   ]
  },
  {
   "cell_type": "markdown",
   "metadata": {},
   "source": [
    "## Lexer Function | 词法分析函数"
   ]
  },
  {
   "cell_type": "code",
   "execution_count": 7,
   "metadata": {},
   "outputs": [],
   "source": [
    "def lexer(src):\n",
    "    line = 1\n",
    "    for mo in re.finditer(any_token, src):  # match object returned by `re.finditer(pattern, str)`\n",
    "        kind = mo.lastgroup\n",
    "        value = mo.group()\n",
    "        if kind == 'WORD':\n",
    "            if value in KEYWORD.keys(): code = KEYWORD[value]\n",
    "            elif re.fullmatch(r'[a-zA-Z][a-zA-Z0-9]*', value): code = ID\n",
    "            elif re.fullmatch(r'\\d+', value): code = INT; value = int(value)  # convert type\n",
    "            else: raise RuntimeError('Illegal word \"%s\" on line %s' % (value, line))\n",
    "        elif kind == 'SYMBOL': code = SYMBOL[value]\n",
    "        elif kind == 'NEW_LINE': line += 1; continue\n",
    "        elif kind == 'WHITE_SPACE': continue\n",
    "        elif kind == 'ILL_CHAR':\n",
    "            raise RuntimeError('Illegal character \\'%c\\' on line %s' % (value, line))\n",
    "        yield (code, value)"
   ]
  },
  {
   "cell_type": "markdown",
   "metadata": {},
   "source": [
    "## Test Example | 测试样例"
   ]
  },
  {
   "cell_type": "markdown",
   "metadata": {},
   "source": [
    "### Damn Right | 正确样例"
   ]
  },
  {
   "cell_type": "code",
   "execution_count": 8,
   "metadata": {},
   "outputs": [
    {
     "name": "stdout",
     "output_type": "stream",
     "text": [
      "(1, 'begin')\n",
      "(10, 'x')\n",
      "(18, ':=')\n",
      "(11, 999)\n",
      "(26, ';')\n",
      "(2, 'if')\n",
      "(10, 'x')\n",
      "(23, '>')\n",
      "(11, 998)\n",
      "(3, 'then')\n",
      "(10, 'x')\n",
      "(18, ':=')\n",
      "(11, 2)\n",
      "(15, '*')\n",
      "(10, 'x')\n",
      "(13, '+')\n",
      "(11, 1)\n",
      "(16, '/')\n",
      "(11, 3)\n",
      "(26, ';')\n",
      "(2, 'if')\n",
      "(10, 'x')\n",
      "(21, '<>')\n",
      "(11, 9)\n",
      "(3, 'then')\n",
      "(10, 'x')\n",
      "(18, ':=')\n",
      "(27, '(')\n",
      "(11, 1)\n",
      "(24, '>=')\n",
      "(11, 0)\n",
      "(28, ')')\n",
      "(26, ';')\n",
      "(6, 'end')\n",
      "(0, '#')\n"
     ]
    }
   ],
   "source": [
    "src_sample = \\\n",
    "'''begin\n",
    "    x:=999;\n",
    "    if x>998 then x:=2*x+1/3;\n",
    "    if x<>9 then x:=(1>=0);\n",
    "end #'''\n",
    "\n",
    "for tup in lexer(src_sample): print(tup)"
   ]
  },
  {
   "cell_type": "markdown",
   "metadata": {},
   "source": [
    "### Illegal Character | 非法字符"
   ]
  },
  {
   "cell_type": "code",
   "execution_count": 9,
   "metadata": {},
   "outputs": [
    {
     "name": "stdout",
     "output_type": "stream",
     "text": [
      "(1, 'begin')\n",
      "(10, 'x')\n",
      "(18, ':=')\n",
      "(11, 999)\n",
      "(26, ';')\n",
      "(2, 'if')\n"
     ]
    },
    {
     "ename": "RuntimeError",
     "evalue": "Illegal character '_' on line 3",
     "output_type": "error",
     "traceback": [
      "\u001b[0;31m---------------------------------------------------------------------------\u001b[0m",
      "\u001b[0;31mRuntimeError\u001b[0m                              Traceback (most recent call last)",
      "\u001b[0;32m<ipython-input-9-13f97d082514>\u001b[0m in \u001b[0;36m<module>\u001b[0;34m\u001b[0m\n\u001b[1;32m      6\u001b[0m \u001b[0mend\u001b[0m \u001b[0;31m#'''\u001b[0m\u001b[0;34m\u001b[0m\u001b[0;34m\u001b[0m\u001b[0m\n\u001b[1;32m      7\u001b[0m \u001b[0;34m\u001b[0m\u001b[0m\n\u001b[0;32m----> 8\u001b[0;31m \u001b[0;32mfor\u001b[0m \u001b[0mtup\u001b[0m \u001b[0;32min\u001b[0m \u001b[0mlexer\u001b[0m\u001b[0;34m(\u001b[0m\u001b[0msrc_sample_ill_char\u001b[0m\u001b[0;34m)\u001b[0m\u001b[0;34m:\u001b[0m \u001b[0mprint\u001b[0m\u001b[0;34m(\u001b[0m\u001b[0mtup\u001b[0m\u001b[0;34m)\u001b[0m\u001b[0;34m\u001b[0m\u001b[0;34m\u001b[0m\u001b[0m\n\u001b[0m",
      "\u001b[0;32m<ipython-input-7-37813c19afe9>\u001b[0m in \u001b[0;36mlexer\u001b[0;34m(src)\u001b[0m\n\u001b[1;32m     13\u001b[0m         \u001b[0;32melif\u001b[0m \u001b[0mkind\u001b[0m \u001b[0;34m==\u001b[0m \u001b[0;34m'WHITE_SPACE'\u001b[0m\u001b[0;34m:\u001b[0m \u001b[0;32mcontinue\u001b[0m\u001b[0;34m\u001b[0m\u001b[0;34m\u001b[0m\u001b[0m\n\u001b[1;32m     14\u001b[0m         \u001b[0;32melif\u001b[0m \u001b[0mkind\u001b[0m \u001b[0;34m==\u001b[0m \u001b[0;34m'ILL_CHAR'\u001b[0m\u001b[0;34m:\u001b[0m\u001b[0;34m\u001b[0m\u001b[0;34m\u001b[0m\u001b[0m\n\u001b[0;32m---> 15\u001b[0;31m             \u001b[0;32mraise\u001b[0m \u001b[0mRuntimeError\u001b[0m\u001b[0;34m(\u001b[0m\u001b[0;34m'Illegal character \\'%c\\' on line %s'\u001b[0m \u001b[0;34m%\u001b[0m \u001b[0;34m(\u001b[0m\u001b[0mvalue\u001b[0m\u001b[0;34m,\u001b[0m \u001b[0mline\u001b[0m\u001b[0;34m)\u001b[0m\u001b[0;34m)\u001b[0m\u001b[0;34m\u001b[0m\u001b[0;34m\u001b[0m\u001b[0m\n\u001b[0m\u001b[1;32m     16\u001b[0m         \u001b[0;32myield\u001b[0m \u001b[0;34m(\u001b[0m\u001b[0mcode\u001b[0m\u001b[0;34m,\u001b[0m \u001b[0mvalue\u001b[0m\u001b[0;34m)\u001b[0m\u001b[0;34m\u001b[0m\u001b[0;34m\u001b[0m\u001b[0m\n",
      "\u001b[0;31mRuntimeError\u001b[0m: Illegal character '_' on line 3"
     ]
    }
   ],
   "source": [
    "src_sample_ill_char = \\\n",
    "'''begin\n",
    "    x:=999;\n",
    "    if _x>998 then ?x:=2*x+1/3;\n",
    "    if []x<>9 then x:=(1>=0);\n",
    "end #'''\n",
    "\n",
    "for tup in lexer(src_sample_ill_char): print(tup)"
   ]
  },
  {
   "cell_type": "markdown",
   "metadata": {},
   "source": [
    "### Illegal Word | 非法单词"
   ]
  },
  {
   "cell_type": "code",
   "execution_count": 10,
   "metadata": {
    "scrolled": false
   },
   "outputs": [
    {
     "name": "stdout",
     "output_type": "stream",
     "text": [
      "(1, 'begin')\n",
      "(10, 'x')\n",
      "(18, ':=')\n",
      "(11, 999)\n",
      "(26, ';')\n",
      "(2, 'if')\n",
      "(10, 'x')\n",
      "(23, '>')\n",
      "(11, 998)\n",
      "(3, 'then')\n"
     ]
    },
    {
     "ename": "RuntimeError",
     "evalue": "Illegal word \"666x\" on line 3",
     "output_type": "error",
     "traceback": [
      "\u001b[0;31m---------------------------------------------------------------------------\u001b[0m",
      "\u001b[0;31mRuntimeError\u001b[0m                              Traceback (most recent call last)",
      "\u001b[0;32m<ipython-input-10-a84d458db979>\u001b[0m in \u001b[0;36m<module>\u001b[0;34m\u001b[0m\n\u001b[1;32m      6\u001b[0m \u001b[0mend\u001b[0m \u001b[0;31m#'''\u001b[0m\u001b[0;34m\u001b[0m\u001b[0;34m\u001b[0m\u001b[0m\n\u001b[1;32m      7\u001b[0m \u001b[0;34m\u001b[0m\u001b[0m\n\u001b[0;32m----> 8\u001b[0;31m \u001b[0;32mfor\u001b[0m \u001b[0mtup\u001b[0m \u001b[0;32min\u001b[0m \u001b[0mlexer\u001b[0m\u001b[0;34m(\u001b[0m\u001b[0msrc_sample_ill_word\u001b[0m\u001b[0;34m)\u001b[0m\u001b[0;34m:\u001b[0m \u001b[0mprint\u001b[0m\u001b[0;34m(\u001b[0m\u001b[0mtup\u001b[0m\u001b[0;34m)\u001b[0m\u001b[0;34m\u001b[0m\u001b[0;34m\u001b[0m\u001b[0m\n\u001b[0m",
      "\u001b[0;32m<ipython-input-7-37813c19afe9>\u001b[0m in \u001b[0;36mlexer\u001b[0;34m(src)\u001b[0m\n\u001b[1;32m      8\u001b[0m             \u001b[0;32melif\u001b[0m \u001b[0mre\u001b[0m\u001b[0;34m.\u001b[0m\u001b[0mfullmatch\u001b[0m\u001b[0;34m(\u001b[0m\u001b[0;34mr'[a-zA-Z][a-zA-Z0-9]*'\u001b[0m\u001b[0;34m,\u001b[0m \u001b[0mvalue\u001b[0m\u001b[0;34m)\u001b[0m\u001b[0;34m:\u001b[0m \u001b[0mcode\u001b[0m \u001b[0;34m=\u001b[0m \u001b[0mID\u001b[0m\u001b[0;34m\u001b[0m\u001b[0;34m\u001b[0m\u001b[0m\n\u001b[1;32m      9\u001b[0m             \u001b[0;32melif\u001b[0m \u001b[0mre\u001b[0m\u001b[0;34m.\u001b[0m\u001b[0mfullmatch\u001b[0m\u001b[0;34m(\u001b[0m\u001b[0;34mr'\\d+'\u001b[0m\u001b[0;34m,\u001b[0m \u001b[0mvalue\u001b[0m\u001b[0;34m)\u001b[0m\u001b[0;34m:\u001b[0m \u001b[0mcode\u001b[0m \u001b[0;34m=\u001b[0m \u001b[0mINT\u001b[0m\u001b[0;34m;\u001b[0m \u001b[0mvalue\u001b[0m \u001b[0;34m=\u001b[0m \u001b[0mint\u001b[0m\u001b[0;34m(\u001b[0m\u001b[0mvalue\u001b[0m\u001b[0;34m)\u001b[0m  \u001b[0;31m# convert type\u001b[0m\u001b[0;34m\u001b[0m\u001b[0;34m\u001b[0m\u001b[0m\n\u001b[0;32m---> 10\u001b[0;31m             \u001b[0;32melse\u001b[0m\u001b[0;34m:\u001b[0m \u001b[0;32mraise\u001b[0m \u001b[0mRuntimeError\u001b[0m\u001b[0;34m(\u001b[0m\u001b[0;34m'Illegal word \"%s\" on line %s'\u001b[0m \u001b[0;34m%\u001b[0m \u001b[0;34m(\u001b[0m\u001b[0mvalue\u001b[0m\u001b[0;34m,\u001b[0m \u001b[0mline\u001b[0m\u001b[0;34m)\u001b[0m\u001b[0;34m)\u001b[0m\u001b[0;34m\u001b[0m\u001b[0;34m\u001b[0m\u001b[0m\n\u001b[0m\u001b[1;32m     11\u001b[0m         \u001b[0;32melif\u001b[0m \u001b[0mkind\u001b[0m \u001b[0;34m==\u001b[0m \u001b[0;34m'SYMBOL'\u001b[0m\u001b[0;34m:\u001b[0m \u001b[0mcode\u001b[0m \u001b[0;34m=\u001b[0m \u001b[0mSYMBOL\u001b[0m\u001b[0;34m[\u001b[0m\u001b[0mvalue\u001b[0m\u001b[0;34m]\u001b[0m\u001b[0;34m\u001b[0m\u001b[0;34m\u001b[0m\u001b[0m\n\u001b[1;32m     12\u001b[0m         \u001b[0;32melif\u001b[0m \u001b[0mkind\u001b[0m \u001b[0;34m==\u001b[0m \u001b[0;34m'NEW_LINE'\u001b[0m\u001b[0;34m:\u001b[0m \u001b[0mline\u001b[0m \u001b[0;34m+=\u001b[0m \u001b[0;36m1\u001b[0m\u001b[0;34m;\u001b[0m \u001b[0;32mcontinue\u001b[0m\u001b[0;34m\u001b[0m\u001b[0;34m\u001b[0m\u001b[0m\n",
      "\u001b[0;31mRuntimeError\u001b[0m: Illegal word \"666x\" on line 3"
     ]
    }
   ],
   "source": [
    "src_sample_ill_word = \\\n",
    "'''begin\n",
    "    x:=999;\n",
    "    if x>998 then 666x:=2*x+1/3;\n",
    "    if 888x<>9 then x:=(1>=0);\n",
    "end #'''\n",
    "\n",
    "for tup in lexer(src_sample_ill_word): print(tup)"
   ]
  },
  {
   "cell_type": "markdown",
   "metadata": {},
   "source": [
    "## Reference | 参考资料\n",
    "\n",
    "[re --- 正则表达式操作 — Python 3.7.3 文档](https://docs.python.org/zh-cn/3.7/library/re.html \"re --- 正则表达式操作 — Python 3.7.3 文档\")"
   ]
  }
 ],
 "metadata": {
  "kernelspec": {
   "display_name": "Python 3",
   "language": "python",
   "name": "python3"
  },
  "language_info": {
   "codemirror_mode": {
    "name": "ipython",
    "version": 3
   },
   "file_extension": ".py",
   "mimetype": "text/x-python",
   "name": "python",
   "nbconvert_exporter": "python",
   "pygments_lexer": "ipython3",
   "version": "3.7.3"
  }
 },
 "nbformat": 4,
 "nbformat_minor": 2
}
